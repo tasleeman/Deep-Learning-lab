{
  "nbformat": 4,
  "nbformat_minor": 0,
  "metadata": {
    "colab": {
      "provenance": []
    },
    "kernelspec": {
      "name": "python3",
      "display_name": "Python 3"
    },
    "language_info": {
      "name": "python"
    }
  },
  "cells": [
    {
      "cell_type": "code",
      "source": [
        "##Name: Tasleem Anis\n",
        "##Roll No.: 69\n",
        "##Batch : D4"
      ],
      "metadata": {
        "id": "52kErcRi3uO9"
      },
      "execution_count": null,
      "outputs": []
    },
    {
      "cell_type": "code",
      "execution_count": null,
      "metadata": {
        "id": "IsHR2OFTrXmQ"
      },
      "outputs": [],
      "source": [
        "import pandas as pd\n",
        "from sklearn.metrics import accuracy_score\n",
        "from sklearn.linear_model import Perceptron\n",
        "from sklearn.model_selection import train_test_split\n"
      ]
    },
    {
      "cell_type": "code",
      "source": [
        "x1_input=[0,0,1,1]\n",
        "x2_input=[0,1,0,1]\n",
        "w1_weight =[1,1,1,1]\n",
        "w2_weight=[1,1,1,1]\n",
        "threshold = 3\n",
        "bias=1"
      ],
      "metadata": {
        "id": "36jWFy3bsbUJ"
      },
      "execution_count": null,
      "outputs": []
    },
    {
      "cell_type": "code",
      "source": [
        "def step(weighted_sum):\n",
        "  if weighted_sum >= threshold:\n",
        "    return 1\n",
        "  else:\n",
        "    return 0"
      ],
      "metadata": {
        "id": "_H6Cy_-dtGzX"
      },
      "execution_count": null,
      "outputs": []
    },
    {
      "cell_type": "code",
      "source": [
        "def perceptron():\n",
        "  weighted_sum=0\n",
        "  for x1,x2,w1,w2 in zip(x1_input,x2_input, w1_weight,w2_weight):\n",
        "    weighted_sum+=(x1*w1)+(x2*w2)+bias\n",
        "    print(weighted_sum)\n",
        "    temp=weighted_sum\n",
        "    weighted_sum=0\n",
        "    print(\"output:\",step(temp))\n",
        "    temp=0\n"
      ],
      "metadata": {
        "id": "LUHK4iHbtHP3"
      },
      "execution_count": null,
      "outputs": []
    },
    {
      "cell_type": "code",
      "source": [
        "perceptron()##and gate"
      ],
      "metadata": {
        "colab": {
          "base_uri": "https://localhost:8080/"
        },
        "id": "A8N_4OIhtJbX",
        "outputId": "5328c306-bd20-4461-c5fa-dc53afbb8c66"
      },
      "execution_count": null,
      "outputs": [
        {
          "output_type": "stream",
          "name": "stdout",
          "text": [
            "1\n",
            "output: 0\n",
            "2\n",
            "output: 0\n",
            "2\n",
            "output: 0\n",
            "3\n",
            "output: 1\n"
          ]
        }
      ]
    },
    {
      "cell_type": "code",
      "source": [
        "threshold = 2\n",
        "perceptron()##or gate"
      ],
      "metadata": {
        "colab": {
          "base_uri": "https://localhost:8080/"
        },
        "id": "hdKhvgW3t2w_",
        "outputId": "77ceb42a-c0ba-4263-98c0-dad39b2bfd9d"
      },
      "execution_count": null,
      "outputs": [
        {
          "output_type": "stream",
          "name": "stdout",
          "text": [
            "1\n",
            "output: 0\n",
            "2\n",
            "output: 1\n",
            "2\n",
            "output: 1\n",
            "3\n",
            "output: 1\n"
          ]
        }
      ]
    },
    {
      "cell_type": "code",
      "source": [
        "import numpy as np\n",
        "\n",
        "points = np.array([[-1, -1, -1], [-1, -1, 1], [-1, 1, -1], [-1, 1, 1],[1, -1, -1], [1, -1, 1], [1, 1, -1], [1, 1, 1]])\n",
        "\n",
        "class_labels = np.array([0, 0, 0, 0, 0, 0, 0, 1])\n",
        "\n",
        "weights = np.array([1, 1, 1])\n",
        "bias = 1\n",
        "learning_rate = 1\n",
        "\n",
        "def perceptron_learning(input_points, labels, weights, bias, learning_rate, threshold=0):\n",
        "    misclassified = True\n",
        "    iteration = 0\n",
        "\n",
        "    while misclassified:\n",
        "        misclassified = False\n",
        "\n",
        "        for i in range(len(input_points)):\n",
        "            data_point = input_points[i]\n",
        "            label = labels[i]\n",
        "\n",
        "\n",
        "            weighted_sum = np.dot(weights, data_point) + bias\n",
        "\n",
        "\n",
        "            predicted_label = 1 if weighted_sum > threshold else 0\n",
        "\n",
        "\n",
        "            if predicted_label != label:\n",
        "                misclassified = True\n",
        "                weights += learning_rate * (label - predicted_label) * data_point\n",
        "                bias += learning_rate * (label - predicted_label)\n",
        "\n",
        "        iteration += 1\n",
        "\n",
        "    print(f\"Perceptron converged in {iteration} iterations.\")\n",
        "    return weights, bias\n",
        "\n",
        "\n",
        "trained_weights, trained_bias = perceptron_learning(points, class_labels, weights, bias, learning_rate)\n",
        "\n",
        "\n",
        "def classify_point(point, weights, bias, threshold=0):\n",
        "    weighted_sum = np.dot(weights, point) + bias\n",
        "    predicted_label = 1 if weighted_sum > threshold else 0\n",
        "    return predicted_label\n",
        "\n",
        "\n",
        "test_points = np.array([[1, 1, 1], [-1, -1, -1]])\n",
        "\n",
        "\n",
        "for point in test_points:\n",
        "    predicted_label = classify_point(point, trained_weights, trained_bias)\n",
        "    print(f\"Point {point} belongs to Class {predicted_label}\")"
      ],
      "metadata": {
        "colab": {
          "base_uri": "https://localhost:8080/"
        },
        "id": "vSBg90Ctyl24",
        "outputId": "20f3133e-00f9-45e1-c9f0-e8e38be8e5b5"
      },
      "execution_count": null,
      "outputs": [
        {
          "output_type": "stream",
          "name": "stdout",
          "text": [
            "Perceptron converged in 2 iterations.\n",
            "Point [1 1 1] belongs to Class 1\n",
            "Point [-1 -1 -1] belongs to Class 0\n"
          ]
        }
      ]
    },
    {
      "cell_type": "code",
      "source": [
        "import numpy as np\n",
        "\n",
        "def is_linearly_separable(class1, class2):\n",
        "    data = np.array([[-1, -1, -1], [-1, -1, 1], [-1, 1, -1], [-1, 1, 1], [1, -1, -1], [1, -1, 1], [1, 1, -1], [1, 1, 1]])\n",
        "    labels = np.array([-1, -1, -1, -1, 1, 1, 1, 1])\n",
        "\n",
        "    training_data = data[[class1, class2]]\n",
        "    training_labels = labels[[class1, class2]]\n",
        "\n",
        "\n",
        "    weights = np.zeros(len(training_data[0]))\n",
        "    bias = 0\n",
        "    learning_rate = 1\n",
        "\n",
        "\n",
        "    for epoch in range(1000):\n",
        "        for i in range(len(training_data)):\n",
        "            prediction = np.dot(weights, training_data[i]) + bias\n",
        "            if prediction * training_labels[i] <= 0:\n",
        "                weights += learning_rate * training_labels[i] * training_data[i]\n",
        "                bias += learning_rate * training_labels[i]\n",
        "\n",
        "\n",
        "    predictions = np.dot(data, weights) + bias\n",
        "    if all(predictions[i] * labels[i] > 0 for i in range(len(data))):\n",
        "        return True\n",
        "    else:\n",
        "        return False\n",
        "\n",
        "def count_linearly_separable_problems():\n",
        "    total_problems = 0\n",
        "    linearly_separable_problems = 0\n",
        "\n",
        "    for class1 in range(7):\n",
        "        for class2 in range(class1 + 1, 8):\n",
        "            total_problems += 1\n",
        "            if is_linearly_separable(class1, class2):\n",
        "                linearly_separable_problems += 1\n",
        "\n",
        "    return linearly_separable_problems, total_problems\n",
        "\n",
        "if __name__ == \"__main__\":\n",
        "    linearly_separable, total = count_linearly_separable_problems()\n",
        "    print(f\"Number of linearly separable problems: {linearly_separable}\")\n",
        "    print(f\"Total number of binary classification problems: {total}\")\n"
      ],
      "metadata": {
        "colab": {
          "base_uri": "https://localhost:8080/"
        },
        "id": "KZJRbJeV56UQ",
        "outputId": "e01393a5-8d3c-4d3e-dc47-dea8014da2d2"
      },
      "execution_count": 1,
      "outputs": [
        {
          "output_type": "stream",
          "name": "stdout",
          "text": [
            "Number of linearly separable problems: 4\n",
            "Total number of binary classification problems: 28\n"
          ]
        }
      ]
    },
    {
      "cell_type": "code",
      "source": [],
      "metadata": {
        "id": "Yhp_KKUw-H8B"
      },
      "execution_count": null,
      "outputs": []
    }
  ]
}